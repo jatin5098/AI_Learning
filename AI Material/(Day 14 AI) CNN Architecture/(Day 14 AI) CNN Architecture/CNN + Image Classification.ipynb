{
 "cells": [
  {
   "cell_type": "markdown",
   "metadata": {
    "colab_type": "text",
    "id": "3DR-eO17geWu"
   },
   "source": [
    "# Convolutional Neural Network"
   ]
  },
  {
   "cell_type": "markdown",
   "metadata": {
    "colab_type": "text",
    "id": "EMefrVPCg-60"
   },
   "source": [
    "### Importing the libraries"
   ]
  },
  {
   "cell_type": "code",
   "execution_count": 1,
   "metadata": {
    "colab": {},
    "colab_type": "code",
    "id": "sCV30xyVhFbE"
   },
   "outputs": [],
   "source": [
    "import tensorflow as tf\n",
    "from keras.preprocessing.image import ImageDataGenerator"
   ]
  },
  {
   "cell_type": "code",
   "execution_count": 2,
   "metadata": {
    "colab": {},
    "colab_type": "code",
    "id": "FIleuCAjoFD8"
   },
   "outputs": [
    {
     "data": {
      "text/plain": [
       "'2.13.0'"
      ]
     },
     "execution_count": 2,
     "metadata": {},
     "output_type": "execute_result"
    }
   ],
   "source": [
    "tf.__version__"
   ]
  },
  {
   "cell_type": "markdown",
   "metadata": {
    "colab_type": "text",
    "id": "oxQxCBWyoGPE"
   },
   "source": [
    "## Part 1 - Data Preprocessing"
   ]
  },
  {
   "cell_type": "markdown",
   "metadata": {
    "colab_type": "text",
    "id": "MvE-heJNo3GG"
   },
   "source": [
    "### Preprocessing the Training set\n",
    "* apply few transformations to imgaes like rescaling, zoom-in, zoom-out, h-flip etc... so that model can not overfit with these images\n",
    "\n",
    "* This is called as Image Augmentation"
   ]
  },
  {
   "cell_type": "code",
   "execution_count": 3,
   "metadata": {
    "colab": {},
    "colab_type": "code",
    "id": "0koUcJMJpEBD"
   },
   "outputs": [
    {
     "name": "stdout",
     "output_type": "stream",
     "text": [
      "Found 8000 images belonging to 2 classes.\n"
     ]
    }
   ],
   "source": [
    "train_datagen = ImageDataGenerator(rescale = 1./255,    ### rescale: feature scaling in image analysis\n",
    "                                   shear_range = 0.2,\n",
    "                                   zoom_range = 0.2,\n",
    "                                   horizontal_flip = True)\n",
    "\n",
    "\n",
    "training_set = train_datagen.flow_from_directory('dataset/training_set',\n",
    "                                                 target_size = (64, 64),  ### image size when imported\n",
    "                                                 batch_size = 32,\n",
    "                                                 class_mode = 'binary')"
   ]
  },
  {
   "cell_type": "markdown",
   "metadata": {
    "colab_type": "text",
    "id": "mrCMmGw9pHys"
   },
   "source": [
    "### Preprocessing the Test set\n",
    "\n",
    "* we are not applying transfomation to test images bcz these are new data points(images) to test the mode performance"
   ]
  },
  {
   "cell_type": "code",
   "execution_count": 4,
   "metadata": {
    "colab": {},
    "colab_type": "code",
    "id": "SH4WzfOhpKc3"
   },
   "outputs": [
    {
     "name": "stdout",
     "output_type": "stream",
     "text": [
      "Found 2000 images belonging to 2 classes.\n"
     ]
    }
   ],
   "source": [
    "test_datagen = ImageDataGenerator(rescale = 1./255)  ### Normalize test images\n",
    "\n",
    "\n",
    "test_set = test_datagen.flow_from_directory('dataset/test_set',\n",
    "                                            target_size = (64, 64),\n",
    "                                            batch_size = 32,    ### test images in batches as train images are in batches\n",
    "                                            class_mode = 'binary')"
   ]
  },
  {
   "cell_type": "code",
   "execution_count": 25,
   "metadata": {
    "scrolled": true
   },
   "outputs": [
    {
     "data": {
      "text/plain": [
       "(array([[[[0.03529412, 0.06666667, 0.02352941],\n",
       "          [0.03529412, 0.04705883, 0.01176471],\n",
       "          [0.21176472, 0.25882354, 0.20392159],\n",
       "          ...,\n",
       "          [0.12941177, 0.17254902, 0.15686275],\n",
       "          [0.13725491, 0.16078432, 0.15294118],\n",
       "          [0.11764707, 0.14117648, 0.13333334]],\n",
       " \n",
       "         [[0.2627451 , 0.29411766, 0.2509804 ],\n",
       "          [0.02745098, 0.0509804 , 0.01176471],\n",
       "          [0.03137255, 0.0627451 , 0.01176471],\n",
       "          ...,\n",
       "          [0.13725491, 0.18039216, 0.16470589],\n",
       "          [0.13333334, 0.1764706 , 0.16078432],\n",
       "          [0.1137255 , 0.15686275, 0.14117648]],\n",
       " \n",
       "         [[0.00784314, 0.03137255, 0.        ],\n",
       "          [0.25490198, 0.29411766, 0.2509804 ],\n",
       "          [0.0627451 , 0.07058824, 0.02745098],\n",
       "          ...,\n",
       "          [0.13333334, 0.1764706 , 0.16078432],\n",
       "          [0.12156864, 0.18039216, 0.16078432],\n",
       "          [0.11764707, 0.1764706 , 0.15686275]],\n",
       " \n",
       "         ...,\n",
       " \n",
       "         [[0.2784314 , 0.30980393, 0.227451  ],\n",
       "          [0.36078432, 0.3647059 , 0.24313727],\n",
       "          [0.37647063, 0.38823533, 0.26666668],\n",
       "          ...,\n",
       "          [0.07843138, 0.08235294, 0.0627451 ],\n",
       "          [0.09019608, 0.07058824, 0.05882353],\n",
       "          [0.07450981, 0.05490196, 0.04313726]],\n",
       " \n",
       "         [[0.28627452, 0.31764707, 0.23529413],\n",
       "          [0.3372549 , 0.34117648, 0.21960786],\n",
       "          [0.38823533, 0.40000004, 0.2784314 ],\n",
       "          ...,\n",
       "          [0.09019608, 0.09411766, 0.07450981],\n",
       "          [0.07058824, 0.0509804 , 0.03921569],\n",
       "          [0.0627451 , 0.04313726, 0.03137255]],\n",
       " \n",
       "         [[0.3372549 , 0.38823533, 0.18039216],\n",
       "          [0.3372549 , 0.34117648, 0.21568629],\n",
       "          [0.3921569 , 0.4039216 , 0.28235295],\n",
       "          ...,\n",
       "          [0.14117648, 0.14509805, 0.1254902 ],\n",
       "          [0.0627451 , 0.04313726, 0.03137255],\n",
       "          [0.05490196, 0.03529412, 0.02352941]]],\n",
       " \n",
       " \n",
       "        [[[0.34117648, 0.5803922 , 0.35686275],\n",
       "          [0.4156863 , 0.65882355, 0.41176474],\n",
       "          [0.41176474, 0.64705884, 0.4039216 ],\n",
       "          ...,\n",
       "          [0.5019608 , 0.69803923, 0.54901963],\n",
       "          [0.5294118 , 0.7137255 , 0.57254905],\n",
       "          [0.45098042, 0.654902  , 0.5058824 ]],\n",
       " \n",
       "         [[0.3019608 , 0.5411765 , 0.31764707],\n",
       "          [0.52156866, 0.7725491 , 0.48235297],\n",
       "          [0.43921572, 0.69803923, 0.41960788],\n",
       "          ...,\n",
       "          [0.41176474, 0.60784316, 0.45882356],\n",
       "          [0.47450984, 0.6627451 , 0.5058824 ],\n",
       "          [0.45098042, 0.65882355, 0.49411768]],\n",
       " \n",
       "         [[0.2509804 , 0.47450984, 0.34901962],\n",
       "          [0.2509804 , 0.48627454, 0.27450982],\n",
       "          [0.35686275, 0.6156863 , 0.37254903],\n",
       "          ...,\n",
       "          [0.49411768, 0.6509804 , 0.5137255 ],\n",
       "          [0.49803925, 0.6862745 , 0.52156866],\n",
       "          [0.49411768, 0.7019608 , 0.5294118 ]],\n",
       " \n",
       "         ...,\n",
       " \n",
       "         [[0.15686275, 0.14117648, 0.09411766],\n",
       "          [0.15686275, 0.14117648, 0.09411766],\n",
       "          [0.16078432, 0.14901961, 0.08235294],\n",
       "          ...,\n",
       "          [0.09803922, 0.07058824, 0.04705883],\n",
       "          [0.09019608, 0.0627451 , 0.03921569],\n",
       "          [0.10980393, 0.08235294, 0.05882353]],\n",
       " \n",
       "         [[0.14901961, 0.13333334, 0.08627451],\n",
       "          [0.15686275, 0.14117648, 0.09411766],\n",
       "          [0.16470589, 0.15294118, 0.08627451],\n",
       "          ...,\n",
       "          [0.10588236, 0.07843138, 0.05490196],\n",
       "          [0.10588236, 0.07843138, 0.05490196],\n",
       "          [0.10980393, 0.08235294, 0.05882353]],\n",
       " \n",
       "         [[0.15294118, 0.13725491, 0.09019608],\n",
       "          [0.15686275, 0.14117648, 0.09411766],\n",
       "          [0.15686275, 0.14509805, 0.07843138],\n",
       "          ...,\n",
       "          [0.10196079, 0.07450981, 0.0509804 ],\n",
       "          [0.10196079, 0.07450981, 0.0509804 ],\n",
       "          [0.09803922, 0.07058824, 0.04705883]]],\n",
       " \n",
       " \n",
       "        [[[0.39607847, 0.3803922 , 0.33333334],\n",
       "          [0.40784317, 0.3921569 , 0.34509805],\n",
       "          [0.41176474, 0.39607847, 0.34901962],\n",
       "          ...,\n",
       "          [0.5568628 , 0.6156863 , 0.7294118 ],\n",
       "          [0.8705883 , 0.9333334 , 0.9921569 ],\n",
       "          [0.8980393 , 0.93725497, 0.97647065]],\n",
       " \n",
       "         [[0.39607847, 0.3803922 , 0.33333334],\n",
       "          [0.41176474, 0.39607847, 0.34901962],\n",
       "          [0.41176474, 0.39607847, 0.34901962],\n",
       "          ...,\n",
       "          [0.5411765 , 0.59607846, 0.7490196 ],\n",
       "          [0.7058824 , 0.78823537, 0.8705883 ],\n",
       "          [0.69411767, 0.7803922 , 0.86274517]],\n",
       " \n",
       "         [[0.4039216 , 0.38823533, 0.34117648],\n",
       "          [0.41176474, 0.39607847, 0.34901962],\n",
       "          [0.41176474, 0.39607847, 0.34901962],\n",
       "          ...,\n",
       "          [0.48235297, 0.5568628 , 0.5803922 ],\n",
       "          [0.5019608 , 0.5568628 , 0.60784316],\n",
       "          [0.57254905, 0.64705884, 0.7137255 ]],\n",
       " \n",
       "         ...,\n",
       " \n",
       "         [[0.454902  , 0.43921572, 0.39607847],\n",
       "          [0.4431373 , 0.427451  , 0.38431376],\n",
       "          [0.4431373 , 0.4156863 , 0.37647063],\n",
       "          ...,\n",
       "          [0.41176474, 0.39607847, 0.34901962],\n",
       "          [0.41176474, 0.40000004, 0.34117648],\n",
       "          [0.41176474, 0.39607847, 0.3529412 ]],\n",
       " \n",
       "         [[0.43529415, 0.41960788, 0.37647063],\n",
       "          [0.4431373 , 0.427451  , 0.38431376],\n",
       "          [0.45882356, 0.43529415, 0.3803922 ],\n",
       "          ...,\n",
       "          [0.44705886, 0.43137258, 0.38431376],\n",
       "          [0.4431373 , 0.42352945, 0.40784317],\n",
       "          [0.43921572, 0.4156863 , 0.4156863 ]],\n",
       " \n",
       "         [[0.43529415, 0.43529415, 0.39607847],\n",
       "          [0.49411768, 0.47058827, 0.42352945],\n",
       "          [0.4901961 , 0.47450984, 0.427451  ],\n",
       "          ...,\n",
       "          [0.4431373 , 0.427451  , 0.3921569 ],\n",
       "          [0.45098042, 0.43137258, 0.40784317],\n",
       "          [0.4431373 , 0.42352945, 0.41176474]]],\n",
       " \n",
       " \n",
       "        ...,\n",
       " \n",
       " \n",
       "        [[[1.        , 1.        , 1.        ],\n",
       "          [1.        , 0.9921569 , 0.9960785 ],\n",
       "          [0.9960785 , 1.        , 1.        ],\n",
       "          ...,\n",
       "          [0.98823535, 0.9960785 , 0.9843138 ],\n",
       "          [1.        , 1.        , 1.        ],\n",
       "          [1.        , 0.9960785 , 1.        ]],\n",
       " \n",
       "         [[1.        , 1.        , 1.        ],\n",
       "          [0.9725491 , 0.9960785 , 0.98823535],\n",
       "          [0.9725491 , 0.9960785 , 0.9960785 ],\n",
       "          ...,\n",
       "          [0.73333335, 0.7607844 , 0.7294118 ],\n",
       "          [0.95294124, 0.9568628 , 0.93725497],\n",
       "          [1.        , 1.        , 1.        ]],\n",
       " \n",
       "         [[1.        , 0.9921569 , 0.9960785 ],\n",
       "          [0.9568628 , 1.        , 0.98823535],\n",
       "          [0.96470594, 1.        , 0.9960785 ],\n",
       "          ...,\n",
       "          [0.75294125, 0.79215693, 0.7490196 ],\n",
       "          [0.7294118 , 0.73333335, 0.70980394],\n",
       "          [1.        , 1.        , 0.9921569 ]],\n",
       " \n",
       "         ...,\n",
       " \n",
       "         [[0.9058824 , 0.86666673, 0.86274517],\n",
       "          [0.39607847, 0.20784315, 0.20000002],\n",
       "          [0.38823533, 0.2627451 , 0.20392159],\n",
       "          ...,\n",
       "          [0.6627451 , 0.56078434, 0.5647059 ],\n",
       "          [0.8117648 , 0.654902  , 0.6901961 ],\n",
       "          [1.        , 0.98823535, 0.9843138 ]],\n",
       " \n",
       "         [[0.9176471 , 0.94117653, 0.90196085],\n",
       "          [0.48235297, 0.37254903, 0.32941177],\n",
       "          [0.7372549 , 0.6117647 , 0.5137255 ],\n",
       "          ...,\n",
       "          [0.76470596, 0.63529414, 0.6627451 ],\n",
       "          [0.7019608 , 0.6156863 , 0.62352943],\n",
       "          [1.        , 0.9960785 , 0.98823535]],\n",
       " \n",
       "         [[0.9960785 , 0.9921569 , 1.        ],\n",
       "          [0.9960785 , 1.        , 0.9921569 ],\n",
       "          [0.10196079, 0.06666667, 0.03137255],\n",
       "          ...,\n",
       "          [0.57254905, 0.5411765 , 0.53333336],\n",
       "          [0.9960785 , 0.9921569 , 0.9843138 ],\n",
       "          [0.9803922 , 1.        , 1.        ]]],\n",
       " \n",
       " \n",
       "        [[[0.5882353 , 0.5568628 , 0.54901963],\n",
       "          [0.5882353 , 0.5568628 , 0.54901963],\n",
       "          [0.54901963, 0.52156866, 0.4901961 ],\n",
       "          ...,\n",
       "          [0.03921569, 0.04313726, 0.0627451 ],\n",
       "          [0.0509804 , 0.05490196, 0.0627451 ],\n",
       "          [0.04313726, 0.04313726, 0.04313726]],\n",
       " \n",
       "         [[0.5568628 , 0.5254902 , 0.5176471 ],\n",
       "          [0.5686275 , 0.5372549 , 0.5294118 ],\n",
       "          [0.6117647 , 0.58431375, 0.5529412 ],\n",
       "          ...,\n",
       "          [0.03529412, 0.03921569, 0.05882353],\n",
       "          [0.04313726, 0.04705883, 0.05490196],\n",
       "          [0.03529412, 0.03529412, 0.03529412]],\n",
       " \n",
       "         [[0.5803922 , 0.54901963, 0.5411765 ],\n",
       "          [0.5686275 , 0.5372549 , 0.5294118 ],\n",
       "          [0.5882353 , 0.56078434, 0.5294118 ],\n",
       "          ...,\n",
       "          [0.03529412, 0.03921569, 0.05882353],\n",
       "          [0.04705883, 0.0509804 , 0.05882353],\n",
       "          [0.03921569, 0.03921569, 0.03921569]],\n",
       " \n",
       "         ...,\n",
       " \n",
       "         [[0.7019608 , 0.6745098 , 0.7019608 ],\n",
       "          [0.75294125, 0.7254902 , 0.75294125],\n",
       "          [0.7176471 , 0.69411767, 0.7019608 ],\n",
       "          ...,\n",
       "          [0.07058824, 0.02352941, 0.0627451 ],\n",
       "          [0.        , 0.05882353, 0.05882353],\n",
       "          [0.6392157 , 0.06666667, 0.3137255 ]],\n",
       " \n",
       "         [[0.7411765 , 0.7176471 , 0.73333335],\n",
       "          [0.7411765 , 0.7176471 , 0.73333335],\n",
       "          [0.7254902 , 0.7019608 , 0.7176471 ],\n",
       "          ...,\n",
       "          [0.04705883, 0.02745098, 0.05490196],\n",
       "          [0.45882356, 0.06666667, 0.20784315],\n",
       "          [0.7058824 , 0.01960784, 0.2509804 ]],\n",
       " \n",
       "         [[0.6431373 , 0.61960787, 0.63529414],\n",
       "          [0.79215693, 0.7686275 , 0.7843138 ],\n",
       "          [0.7137255 , 0.6901961 , 0.7058824 ],\n",
       "          ...,\n",
       "          [0.57254905, 0.03921569, 0.227451  ],\n",
       "          [0.74509805, 0.04313726, 0.27058825],\n",
       "          [0.7137255 , 0.03137255, 0.23137257]]],\n",
       " \n",
       " \n",
       "        [[[0.36862746, 0.3803922 , 0.40784317],\n",
       "          [0.227451  , 0.24313727, 0.24705884],\n",
       "          [0.23529413, 0.24313727, 0.23137257],\n",
       "          ...,\n",
       "          [0.34509805, 0.34509805, 0.3529412 ],\n",
       "          [0.34901962, 0.34901962, 0.35686275],\n",
       "          [0.34509805, 0.34901962, 0.35686275]],\n",
       " \n",
       "         [[0.3803922 , 0.3921569 , 0.41960788],\n",
       "          [0.21568629, 0.23137257, 0.23529413],\n",
       "          [0.24313727, 0.2509804 , 0.2392157 ],\n",
       "          ...,\n",
       "          [0.34901962, 0.34901962, 0.35686275],\n",
       "          [0.34901962, 0.34901962, 0.35686275],\n",
       "          [0.3529412 , 0.35686275, 0.3647059 ]],\n",
       " \n",
       "         [[0.39607847, 0.40784317, 0.43529415],\n",
       "          [0.23529413, 0.2509804 , 0.25490198],\n",
       "          [0.2509804 , 0.25882354, 0.24705884],\n",
       "          ...,\n",
       "          [0.34901962, 0.34901962, 0.35686275],\n",
       "          [0.36078432, 0.36078432, 0.36862746],\n",
       "          [0.3529412 , 0.35686275, 0.3647059 ]],\n",
       " \n",
       "         ...,\n",
       " \n",
       "         [[0.17254902, 0.15294118, 0.14117648],\n",
       "          [0.14901961, 0.12941177, 0.11764707],\n",
       "          [0.20000002, 0.1764706 , 0.1764706 ],\n",
       "          ...,\n",
       "          [0.41176474, 0.43921572, 0.46274513],\n",
       "          [0.41176474, 0.43921572, 0.46274513],\n",
       "          [0.40784317, 0.43529415, 0.4666667 ]],\n",
       " \n",
       "         [[0.16078432, 0.14117648, 0.12941177],\n",
       "          [0.14509805, 0.1254902 , 0.1137255 ],\n",
       "          [0.22352943, 0.13333334, 0.07058824],\n",
       "          ...,\n",
       "          [0.18431373, 0.15686275, 0.13333334],\n",
       "          [0.20000002, 0.17254902, 0.14901961],\n",
       "          [0.23529413, 0.21960786, 0.21568629]],\n",
       " \n",
       "         [[0.17254902, 0.16078432, 0.13333334],\n",
       "          [0.19607845, 0.14509805, 0.1137255 ],\n",
       "          [0.22352943, 0.13333334, 0.10196079],\n",
       "          ...,\n",
       "          [0.1764706 , 0.15686275, 0.14509805],\n",
       "          [0.19607845, 0.1764706 , 0.16470589],\n",
       "          [0.16862746, 0.14901961, 0.13725491]]]], dtype=float32),\n",
       " array([1., 0., 0., 0., 0., 0., 0., 1., 1., 0., 1., 1., 1., 0., 1., 1., 1.,\n",
       "        1., 0., 1., 0., 1., 1., 1., 1., 1., 1., 1., 1., 0., 1., 0.],\n",
       "       dtype=float32))"
      ]
     },
     "execution_count": 25,
     "metadata": {},
     "output_type": "execute_result"
    }
   ],
   "source": [
    "#test_set[0]"
   ]
  },
  {
   "cell_type": "code",
   "execution_count": null,
   "metadata": {},
   "outputs": [],
   "source": []
  },
  {
   "cell_type": "markdown",
   "metadata": {
    "colab_type": "text",
    "id": "af8O4l90gk7B"
   },
   "source": [
    "## Part 2 - Building the CNN"
   ]
  },
  {
   "cell_type": "markdown",
   "metadata": {
    "colab_type": "text",
    "id": "ces1gXY2lmoX"
   },
   "source": [
    "### Initialising the CNN"
   ]
  },
  {
   "cell_type": "code",
   "execution_count": 5,
   "metadata": {
    "colab": {},
    "colab_type": "code",
    "id": "SAUt4UMPlhLS"
   },
   "outputs": [],
   "source": [
    "cnn = tf.keras.models.Sequential()"
   ]
  },
  {
   "cell_type": "markdown",
   "metadata": {
    "colab_type": "text",
    "id": "u5YJj_XMl5LF"
   },
   "source": [
    "### Step 1 - Convolution"
   ]
  },
  {
   "cell_type": "code",
   "execution_count": 6,
   "metadata": {
    "colab": {},
    "colab_type": "code",
    "id": "XPzPrMckl-hV"
   },
   "outputs": [],
   "source": [
    "cnn.add(tf.keras.layers.Conv2D(filters=32, kernel_size=3, activation='relu', input_shape=[64, 64, 3]))\n",
    "        \n",
    "## 2D convolution layer : This layer creates a convolution kernel that is convolved with the layer input to produce a tensor of outputs.\n",
    "# filters: Integer, the dimensionality of the output space (i.e. the number of output filters in the convolution).\n",
    "#  kernel_size: An integer or tuple/list of 2 integers, specifying the height and width of the 2D convolution window."
   ]
  },
  {
   "cell_type": "markdown",
   "metadata": {
    "colab_type": "text",
    "id": "tf87FpvxmNOJ"
   },
   "source": [
    "### Step 2 - Pooling"
   ]
  },
  {
   "cell_type": "code",
   "execution_count": 7,
   "metadata": {
    "colab": {},
    "colab_type": "code",
    "id": "ncpqPl69mOac"
   },
   "outputs": [],
   "source": [
    "cnn.add(tf.keras.layers.MaxPool2D(pool_size=2, strides=2))"
   ]
  },
  {
   "cell_type": "markdown",
   "metadata": {
    "colab_type": "text",
    "id": "xaTOgD8rm4mU"
   },
   "source": [
    "### Adding a second convolutional layer"
   ]
  },
  {
   "cell_type": "code",
   "execution_count": 8,
   "metadata": {
    "colab": {},
    "colab_type": "code",
    "id": "i_-FZjn_m8gk"
   },
   "outputs": [],
   "source": [
    "cnn.add(tf.keras.layers.Conv2D(filters=32, kernel_size=3, activation='relu'))\n",
    "\n",
    "cnn.add(tf.keras.layers.MaxPool2D(pool_size=2, strides=2))"
   ]
  },
  {
   "cell_type": "markdown",
   "metadata": {
    "colab_type": "text",
    "id": "tmiEuvTunKfk"
   },
   "source": [
    "### Step 3 - Flattening"
   ]
  },
  {
   "cell_type": "code",
   "execution_count": 9,
   "metadata": {
    "colab": {},
    "colab_type": "code",
    "id": "6AZeOGCvnNZn"
   },
   "outputs": [],
   "source": [
    "cnn.add(tf.keras.layers.Flatten())"
   ]
  },
  {
   "cell_type": "markdown",
   "metadata": {
    "colab_type": "text",
    "id": "dAoSECOm203v"
   },
   "source": [
    "### Step 4 - Full Connection"
   ]
  },
  {
   "cell_type": "code",
   "execution_count": 10,
   "metadata": {
    "colab": {},
    "colab_type": "code",
    "id": "8GtmUlLd26Nq"
   },
   "outputs": [],
   "source": [
    "cnn.add(tf.keras.layers.Dense(units=128, activation='relu'))"
   ]
  },
  {
   "cell_type": "markdown",
   "metadata": {
    "colab_type": "text",
    "id": "yTldFvbX28Na"
   },
   "source": [
    "### Step 5 - Output Layer"
   ]
  },
  {
   "cell_type": "code",
   "execution_count": 11,
   "metadata": {
    "colab": {},
    "colab_type": "code",
    "id": "1p_Zj1Mc3Ko_"
   },
   "outputs": [],
   "source": [
    "cnn.add(tf.keras.layers.Dense(units=1, activation='sigmoid'))"
   ]
  },
  {
   "cell_type": "markdown",
   "metadata": {
    "colab_type": "text",
    "id": "D6XkI90snSDl"
   },
   "source": [
    "## Part 3 - Training the CNN"
   ]
  },
  {
   "cell_type": "markdown",
   "metadata": {
    "colab_type": "text",
    "id": "vfrFQACEnc6i"
   },
   "source": [
    "### Compiling the CNN"
   ]
  },
  {
   "cell_type": "code",
   "execution_count": 12,
   "metadata": {
    "colab": {},
    "colab_type": "code",
    "id": "NALksrNQpUlJ"
   },
   "outputs": [],
   "source": [
    "cnn.compile(optimizer = 'adam', loss = 'binary_crossentropy', metrics = ['accuracy'])"
   ]
  },
  {
   "cell_type": "markdown",
   "metadata": {
    "colab_type": "text",
    "id": "ehS-v3MIpX2h"
   },
   "source": [
    "### Training the CNN on the Training set and evaluating it on the Test set"
   ]
  },
  {
   "cell_type": "code",
   "execution_count": 14,
   "metadata": {
    "colab": {},
    "colab_type": "code",
    "id": "XUj1W4PJptta"
   },
   "outputs": [
    {
     "name": "stdout",
     "output_type": "stream",
     "text": [
      "Epoch 1/5\n",
      "250/250 [==============================] - 44s 177ms/step - loss: 0.5551 - accuracy: 0.7155 - val_loss: 0.5300 - val_accuracy: 0.7455\n",
      "Epoch 2/5\n",
      "250/250 [==============================] - 46s 185ms/step - loss: 0.5165 - accuracy: 0.7396 - val_loss: 0.5217 - val_accuracy: 0.7470\n",
      "Epoch 3/5\n",
      "250/250 [==============================] - 45s 180ms/step - loss: 0.5080 - accuracy: 0.7508 - val_loss: 0.4840 - val_accuracy: 0.7625\n",
      "Epoch 4/5\n",
      "250/250 [==============================] - 43s 171ms/step - loss: 0.4892 - accuracy: 0.7595 - val_loss: 0.5019 - val_accuracy: 0.7615\n",
      "Epoch 5/5\n",
      "250/250 [==============================] - 49s 198ms/step - loss: 0.4663 - accuracy: 0.7763 - val_loss: 0.4721 - val_accuracy: 0.7735\n"
     ]
    },
    {
     "data": {
      "text/plain": [
       "<keras.src.callbacks.History at 0x1e18b807c50>"
      ]
     },
     "execution_count": 14,
     "metadata": {},
     "output_type": "execute_result"
    }
   ],
   "source": [
    "cnn.fit(x = training_set, validation_data = test_set, epochs = 5)"
   ]
  },
  {
   "cell_type": "markdown",
   "metadata": {
    "colab_type": "text",
    "id": "U3PZasO0006Z"
   },
   "source": [
    "## Making a single prediction"
   ]
  },
  {
   "cell_type": "code",
   "execution_count": 17,
   "metadata": {
    "colab": {},
    "colab_type": "code",
    "id": "gsSiWEJY1BPB"
   },
   "outputs": [
    {
     "name": "stdout",
     "output_type": "stream",
     "text": [
      "1/1 [==============================] - 0s 21ms/step\n"
     ]
    }
   ],
   "source": [
    "import numpy as np\n",
    "from keras.preprocessing import image\n",
    "test_image = image.load_img('dataset/single_prediction/cat_or_dog_2.jpg', target_size = (64, 64))\n",
    "test_image = image.img_to_array(test_image)\n",
    "test_image = np.expand_dims(test_image, axis = 0)  ### get extra dimesion since training done over batches as extra dimension\n",
    "result = cnn.predict(test_image)\n",
    "training_set.class_indices\n",
    "if result[0][0] == 1:\n",
    "  prediction = 'dog'\n",
    "else:\n",
    "  prediction = 'cat'"
   ]
  },
  {
   "cell_type": "code",
   "execution_count": 18,
   "metadata": {
    "colab": {},
    "colab_type": "code",
    "id": "ED9KB3I54c1i"
   },
   "outputs": [
    {
     "name": "stdout",
     "output_type": "stream",
     "text": [
      "cat\n"
     ]
    }
   ],
   "source": [
    "print(prediction)"
   ]
  },
  {
   "cell_type": "code",
   "execution_count": 26,
   "metadata": {},
   "outputs": [
    {
     "data": {
      "text/plain": [
       "{'cats': 0, 'dogs': 1}"
      ]
     },
     "execution_count": 26,
     "metadata": {},
     "output_type": "execute_result"
    }
   ],
   "source": [
    "#training_set.class_indices"
   ]
  },
  {
   "cell_type": "code",
   "execution_count": null,
   "metadata": {},
   "outputs": [],
   "source": []
  }
 ],
 "metadata": {
  "colab": {
   "authorship_tag": "ABX9TyON0YxX/oky4tPbqCLnFjWD",
   "collapsed_sections": [],
   "name": "convolutional_neural_network.ipynb",
   "provenance": [],
   "toc_visible": true
  },
  "kernelspec": {
   "display_name": "Python 3 (ipykernel)",
   "language": "python",
   "name": "python3"
  },
  "language_info": {
   "codemirror_mode": {
    "name": "ipython",
    "version": 3
   },
   "file_extension": ".py",
   "mimetype": "text/x-python",
   "name": "python",
   "nbconvert_exporter": "python",
   "pygments_lexer": "ipython3",
   "version": "3.11.4"
  }
 },
 "nbformat": 4,
 "nbformat_minor": 1
}
