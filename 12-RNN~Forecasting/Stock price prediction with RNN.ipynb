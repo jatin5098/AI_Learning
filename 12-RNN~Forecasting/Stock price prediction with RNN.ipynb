{
 "cells": [
  {
   "cell_type": "markdown",
   "metadata": {
    "colab_type": "text",
    "id": "xpAuMVCwfWs8"
   },
   "source": [
    "# Recurrent Neural Network"
   ]
  },
  {
   "cell_type": "markdown",
   "metadata": {
    "colab_type": "text",
    "id": "nxJfRe4bfYVA"
   },
   "source": [
    "## Part 1 - Data Preprocessing"
   ]
  },
  {
   "cell_type": "markdown",
   "metadata": {
    "colab_type": "text",
    "id": "ir9zwETrfbrp"
   },
   "source": [
    "### Importing the libraries"
   ]
  },
  {
   "cell_type": "code",
   "execution_count": 1,
   "metadata": {
    "colab": {},
    "colab_type": "code",
    "id": "ZT1f24vHffuf"
   },
   "outputs": [],
   "source": [
    "import numpy as np\n",
    "import matplotlib.pyplot as plt\n",
    "import pandas as pd"
   ]
  },
  {
   "cell_type": "markdown",
   "metadata": {
    "colab_type": "text",
    "id": "nQ47JAxrgmaL"
   },
   "source": [
    "### Importing the training set"
   ]
  },
  {
   "cell_type": "code",
   "execution_count": 2,
   "metadata": {
    "colab": {},
    "colab_type": "code",
    "id": "1xiv3pJOgqY3"
   },
   "outputs": [],
   "source": [
    "dataset_train = pd.read_csv('Google_Stock_Price_Train.csv')\n",
    "training_set = dataset_train.iloc[:, 1:2].values"
   ]
  },
  {
   "cell_type": "code",
   "execution_count": 3,
   "metadata": {},
   "outputs": [
    {
     "data": {
      "text/html": [
       "<div>\n",
       "<style scoped>\n",
       "    .dataframe tbody tr th:only-of-type {\n",
       "        vertical-align: middle;\n",
       "    }\n",
       "\n",
       "    .dataframe tbody tr th {\n",
       "        vertical-align: top;\n",
       "    }\n",
       "\n",
       "    .dataframe thead th {\n",
       "        text-align: right;\n",
       "    }\n",
       "</style>\n",
       "<table border=\"1\" class=\"dataframe\">\n",
       "  <thead>\n",
       "    <tr style=\"text-align: right;\">\n",
       "      <th></th>\n",
       "      <th>Date</th>\n",
       "      <th>Open</th>\n",
       "      <th>High</th>\n",
       "      <th>Low</th>\n",
       "      <th>Close</th>\n",
       "      <th>Volume</th>\n",
       "    </tr>\n",
       "  </thead>\n",
       "  <tbody>\n",
       "    <tr>\n",
       "      <th>0</th>\n",
       "      <td>1/3/2012</td>\n",
       "      <td>325.25</td>\n",
       "      <td>332.83</td>\n",
       "      <td>324.97</td>\n",
       "      <td>663.59</td>\n",
       "      <td>7,380,500</td>\n",
       "    </tr>\n",
       "    <tr>\n",
       "      <th>1</th>\n",
       "      <td>1/4/2012</td>\n",
       "      <td>331.27</td>\n",
       "      <td>333.87</td>\n",
       "      <td>329.08</td>\n",
       "      <td>666.45</td>\n",
       "      <td>5,749,400</td>\n",
       "    </tr>\n",
       "    <tr>\n",
       "      <th>2</th>\n",
       "      <td>1/5/2012</td>\n",
       "      <td>329.83</td>\n",
       "      <td>330.75</td>\n",
       "      <td>326.89</td>\n",
       "      <td>657.21</td>\n",
       "      <td>6,590,300</td>\n",
       "    </tr>\n",
       "    <tr>\n",
       "      <th>3</th>\n",
       "      <td>1/6/2012</td>\n",
       "      <td>328.34</td>\n",
       "      <td>328.77</td>\n",
       "      <td>323.68</td>\n",
       "      <td>648.24</td>\n",
       "      <td>5,405,900</td>\n",
       "    </tr>\n",
       "    <tr>\n",
       "      <th>4</th>\n",
       "      <td>1/9/2012</td>\n",
       "      <td>322.04</td>\n",
       "      <td>322.29</td>\n",
       "      <td>309.46</td>\n",
       "      <td>620.76</td>\n",
       "      <td>11,688,800</td>\n",
       "    </tr>\n",
       "    <tr>\n",
       "      <th>...</th>\n",
       "      <td>...</td>\n",
       "      <td>...</td>\n",
       "      <td>...</td>\n",
       "      <td>...</td>\n",
       "      <td>...</td>\n",
       "      <td>...</td>\n",
       "    </tr>\n",
       "    <tr>\n",
       "      <th>1253</th>\n",
       "      <td>12/23/2016</td>\n",
       "      <td>790.90</td>\n",
       "      <td>792.74</td>\n",
       "      <td>787.28</td>\n",
       "      <td>789.91</td>\n",
       "      <td>623,400</td>\n",
       "    </tr>\n",
       "    <tr>\n",
       "      <th>1254</th>\n",
       "      <td>12/27/2016</td>\n",
       "      <td>790.68</td>\n",
       "      <td>797.86</td>\n",
       "      <td>787.66</td>\n",
       "      <td>791.55</td>\n",
       "      <td>789,100</td>\n",
       "    </tr>\n",
       "    <tr>\n",
       "      <th>1255</th>\n",
       "      <td>12/28/2016</td>\n",
       "      <td>793.70</td>\n",
       "      <td>794.23</td>\n",
       "      <td>783.20</td>\n",
       "      <td>785.05</td>\n",
       "      <td>1,153,800</td>\n",
       "    </tr>\n",
       "    <tr>\n",
       "      <th>1256</th>\n",
       "      <td>12/29/2016</td>\n",
       "      <td>783.33</td>\n",
       "      <td>785.93</td>\n",
       "      <td>778.92</td>\n",
       "      <td>782.79</td>\n",
       "      <td>744,300</td>\n",
       "    </tr>\n",
       "    <tr>\n",
       "      <th>1257</th>\n",
       "      <td>12/30/2016</td>\n",
       "      <td>782.75</td>\n",
       "      <td>782.78</td>\n",
       "      <td>770.41</td>\n",
       "      <td>771.82</td>\n",
       "      <td>1,770,000</td>\n",
       "    </tr>\n",
       "  </tbody>\n",
       "</table>\n",
       "<p>1258 rows × 6 columns</p>\n",
       "</div>"
      ],
      "text/plain": [
       "            Date    Open    High     Low   Close      Volume\n",
       "0       1/3/2012  325.25  332.83  324.97  663.59   7,380,500\n",
       "1       1/4/2012  331.27  333.87  329.08  666.45   5,749,400\n",
       "2       1/5/2012  329.83  330.75  326.89  657.21   6,590,300\n",
       "3       1/6/2012  328.34  328.77  323.68  648.24   5,405,900\n",
       "4       1/9/2012  322.04  322.29  309.46  620.76  11,688,800\n",
       "...          ...     ...     ...     ...     ...         ...\n",
       "1253  12/23/2016  790.90  792.74  787.28  789.91     623,400\n",
       "1254  12/27/2016  790.68  797.86  787.66  791.55     789,100\n",
       "1255  12/28/2016  793.70  794.23  783.20  785.05   1,153,800\n",
       "1256  12/29/2016  783.33  785.93  778.92  782.79     744,300\n",
       "1257  12/30/2016  782.75  782.78  770.41  771.82   1,770,000\n",
       "\n",
       "[1258 rows x 6 columns]"
      ]
     },
     "execution_count": 3,
     "metadata": {},
     "output_type": "execute_result"
    }
   ],
   "source": [
    "dataset_train"
   ]
  },
  {
   "cell_type": "code",
   "execution_count": 4,
   "metadata": {},
   "outputs": [
    {
     "data": {
      "text/plain": [
       "1258"
      ]
     },
     "execution_count": 4,
     "metadata": {},
     "output_type": "execute_result"
    }
   ],
   "source": [
    "len(training_set)"
   ]
  },
  {
   "cell_type": "code",
   "execution_count": 5,
   "metadata": {},
   "outputs": [
    {
     "data": {
      "text/plain": [
       "array([[325.25],\n",
       "       [331.27],\n",
       "       [329.83],\n",
       "       ...,\n",
       "       [793.7 ],\n",
       "       [783.33],\n",
       "       [782.75]])"
      ]
     },
     "execution_count": 5,
     "metadata": {},
     "output_type": "execute_result"
    }
   ],
   "source": [
    "training_set"
   ]
  },
  {
   "cell_type": "code",
   "execution_count": 6,
   "metadata": {},
   "outputs": [
    {
     "data": {
      "text/plain": [
       "array([[325.25],\n",
       "       [331.27],\n",
       "       [329.83],\n",
       "       ...,\n",
       "       [793.7 ],\n",
       "       [783.33],\n",
       "       [782.75]])"
      ]
     },
     "execution_count": 6,
     "metadata": {},
     "output_type": "execute_result"
    }
   ],
   "source": [
    "training_set"
   ]
  },
  {
   "cell_type": "markdown",
   "metadata": {
    "colab_type": "text",
    "id": "HT8_2UJegtG5"
   },
   "source": [
    "### Feature Scaling"
   ]
  },
  {
   "cell_type": "code",
   "execution_count": 6,
   "metadata": {
    "colab": {},
    "colab_type": "code",
    "id": "OTrF2kR7gx9x"
   },
   "outputs": [],
   "source": [
    "from sklearn.preprocessing import MinMaxScaler\n",
    "sc = MinMaxScaler(feature_range = (0, 1))\n",
    "training_set_scaled = sc.fit_transform(training_set)"
   ]
  },
  {
   "cell_type": "code",
   "execution_count": 7,
   "metadata": {},
   "outputs": [
    {
     "data": {
      "text/plain": [
       "array([[0.08581368],\n",
       "       [0.09701243],\n",
       "       [0.09433366],\n",
       "       ...,\n",
       "       [0.95725128],\n",
       "       [0.93796041],\n",
       "       [0.93688146]])"
      ]
     },
     "execution_count": 7,
     "metadata": {},
     "output_type": "execute_result"
    }
   ],
   "source": [
    "training_set_scaled"
   ]
  },
  {
   "cell_type": "markdown",
   "metadata": {
    "colab_type": "text",
    "id": "JyYgYocqhNUg"
   },
   "source": [
    "### Creating a data structure with 60 timesteps and 1 output"
   ]
  },
  {
   "cell_type": "code",
   "execution_count": 8,
   "metadata": {
    "colab": {},
    "colab_type": "code",
    "id": "iofU21B0i6ST"
   },
   "outputs": [],
   "source": [
    "X_train = []\n",
    "y_train = []\n",
    "\n",
    "for i in range(60, 1258):\n",
    "    \n",
    "    X_train.append(training_set_scaled[i-60:i, 0])\n",
    "    \n",
    "    y_train.append(training_set_scaled[i, 0])\n",
    "\n",
    "X_train, y_train = np.array(X_train), np.array(y_train)"
   ]
  },
  {
   "cell_type": "code",
   "execution_count": 9,
   "metadata": {},
   "outputs": [
    {
     "data": {
      "text/plain": [
       "((1198, 60),\n",
       " array([[0.08581368, 0.09701243, 0.09433366, ..., 0.07846566, 0.08034452,\n",
       "         0.08497656],\n",
       "        [0.09701243, 0.09433366, 0.09156187, ..., 0.08034452, 0.08497656,\n",
       "         0.08627874],\n",
       "        [0.09433366, 0.09156187, 0.07984225, ..., 0.08497656, 0.08627874,\n",
       "         0.08471612],\n",
       "        ...,\n",
       "        [0.92106928, 0.92438053, 0.93048218, ..., 0.95475854, 0.95204256,\n",
       "         0.95163331],\n",
       "        [0.92438053, 0.93048218, 0.9299055 , ..., 0.95204256, 0.95163331,\n",
       "         0.95725128],\n",
       "        [0.93048218, 0.9299055 , 0.93113327, ..., 0.95163331, 0.95725128,\n",
       "         0.93796041]]))"
      ]
     },
     "execution_count": 9,
     "metadata": {},
     "output_type": "execute_result"
    }
   ],
   "source": [
    "X_train.shape, X_train"
   ]
  },
  {
   "cell_type": "code",
   "execution_count": 10,
   "metadata": {},
   "outputs": [
    {
     "data": {
      "text/plain": [
       "((1198,),\n",
       " array([0.08627874, 0.08471612, 0.07454052, ..., 0.95725128, 0.93796041,\n",
       "        0.93688146]))"
      ]
     },
     "execution_count": 10,
     "metadata": {},
     "output_type": "execute_result"
    }
   ],
   "source": [
    "y_train.shape, y_train"
   ]
  },
  {
   "cell_type": "markdown",
   "metadata": {
    "colab_type": "text",
    "id": "D8yaN7Zvi95l"
   },
   "source": [
    "### Reshaping"
   ]
  },
  {
   "cell_type": "code",
   "execution_count": 16,
   "metadata": {
    "colab": {},
    "colab_type": "code",
    "id": "FOXqJHmNjBkz"
   },
   "outputs": [],
   "source": [
    "X_train = np.reshape(X_train, (X_train.shape[0], X_train.shape[1], 1))  ###(batch size, timestamps, indicators)"
   ]
  },
  {
   "cell_type": "code",
   "execution_count": 17,
   "metadata": {},
   "outputs": [
    {
     "data": {
      "text/plain": [
       "(1198, 60, 1)"
      ]
     },
     "execution_count": 17,
     "metadata": {},
     "output_type": "execute_result"
    }
   ],
   "source": [
    "X_train.shape"
   ]
  },
  {
   "cell_type": "code",
   "execution_count": null,
   "metadata": {},
   "outputs": [],
   "source": []
  },
  {
   "cell_type": "markdown",
   "metadata": {
    "colab_type": "text",
    "id": "ZRRSOJeVjEWV"
   },
   "source": [
    "## Part 2 - Building and Training the RNN"
   ]
  },
  {
   "cell_type": "markdown",
   "metadata": {
    "colab_type": "text",
    "id": "k4XV88JMjHXG"
   },
   "source": [
    "### Importing the Keras libraries and packages"
   ]
  },
  {
   "cell_type": "code",
   "execution_count": 11,
   "metadata": {
    "colab": {
     "base_uri": "https://localhost:8080/",
     "height": 34
    },
    "colab_type": "code",
    "id": "9JRnqsxEjKsD",
    "outputId": "b3e23e78-18aa-4396-c923-c877b8de60e4"
   },
   "outputs": [],
   "source": [
    "from keras.models import Sequential\n",
    "from keras.layers import Dense\n",
    "from keras.layers import SimpleRNN\n",
    "from keras.layers import Dropout"
   ]
  },
  {
   "cell_type": "markdown",
   "metadata": {
    "colab_type": "text",
    "id": "FEIE-1s9jNzC"
   },
   "source": [
    "### Initialising the RNN"
   ]
  },
  {
   "cell_type": "code",
   "execution_count": 12,
   "metadata": {
    "colab": {},
    "colab_type": "code",
    "id": "1338dJ0UjRKH"
   },
   "outputs": [],
   "source": [
    "regressor = Sequential()"
   ]
  },
  {
   "cell_type": "markdown",
   "metadata": {
    "colab_type": "text",
    "id": "62eg1OPGjT8z"
   },
   "source": [
    "### Adding the first RNN layer and some Dropout regularisation"
   ]
  },
  {
   "cell_type": "code",
   "execution_count": 13,
   "metadata": {
    "colab": {},
    "colab_type": "code",
    "id": "2hIinyXUjbVU"
   },
   "outputs": [],
   "source": [
    "regressor.add(SimpleRNN(units = 50, return_sequences = True, input_shape = (X_train.shape[1], 1)))\n",
    "regressor.add(Dropout(0.2))"
   ]
  },
  {
   "cell_type": "markdown",
   "metadata": {
    "colab_type": "text",
    "id": "3XBIYLyOjlMx"
   },
   "source": [
    "### Adding a second RNN layer and some Dropout regularisation"
   ]
  },
  {
   "cell_type": "code",
   "execution_count": 14,
   "metadata": {
    "colab": {},
    "colab_type": "code",
    "id": "UG7nrVaSjuZ2"
   },
   "outputs": [],
   "source": [
    "regressor.add(SimpleRNN(units = 50, return_sequences = True))\n",
    "regressor.add(Dropout(0.2))"
   ]
  },
  {
   "cell_type": "markdown",
   "metadata": {
    "colab_type": "text",
    "id": "Ey3fHVnGj1cu"
   },
   "source": [
    "### Adding a third RNN layer and some Dropout regularisation"
   ]
  },
  {
   "cell_type": "code",
   "execution_count": 15,
   "metadata": {
    "colab": {},
    "colab_type": "code",
    "id": "PuNi6PgFj7jO"
   },
   "outputs": [],
   "source": [
    "regressor.add(SimpleRNN(units = 50, return_sequences = True))\n",
    "regressor.add(Dropout(0.2))"
   ]
  },
  {
   "cell_type": "markdown",
   "metadata": {
    "colab_type": "text",
    "id": "SYTrtfTmj933"
   },
   "source": [
    "### Adding a fourth RNN layer and some Dropout regularisation"
   ]
  },
  {
   "cell_type": "code",
   "execution_count": 16,
   "metadata": {
    "colab": {},
    "colab_type": "code",
    "id": "Jp4Ty8fRkBYV"
   },
   "outputs": [],
   "source": [
    "regressor.add(SimpleRNN(units = 50))\n",
    "regressor.add(Dropout(0.2))"
   ]
  },
  {
   "cell_type": "markdown",
   "metadata": {
    "colab_type": "text",
    "id": "9ABI6rOIkHhk"
   },
   "source": [
    "### Adding the output layer"
   ]
  },
  {
   "cell_type": "code",
   "execution_count": 20,
   "metadata": {
    "colab": {},
    "colab_type": "code",
    "id": "aM6R1z4WkME8"
   },
   "outputs": [],
   "source": [
    "regressor.add(Dense(units = 1))"
   ]
  },
  {
   "cell_type": "markdown",
   "metadata": {
    "colab_type": "text",
    "id": "zLx4K7uUkPSh"
   },
   "source": [
    "### Compiling the RNN"
   ]
  },
  {
   "cell_type": "code",
   "execution_count": 17,
   "metadata": {
    "colab": {},
    "colab_type": "code",
    "id": "XTrhVN-tkbko"
   },
   "outputs": [],
   "source": [
    "regressor.compile(optimizer = 'adam', loss = 'mean_squared_error')"
   ]
  },
  {
   "cell_type": "markdown",
   "metadata": {
    "colab_type": "text",
    "id": "-mPhwKGkkebi"
   },
   "source": [
    "### Fitting the RNN to the Training set"
   ]
  },
  {
   "cell_type": "code",
   "execution_count": 18,
   "metadata": {
    "colab": {
     "base_uri": "https://localhost:8080/",
     "height": 1000
    },
    "colab_type": "code",
    "id": "I06Nkrz5kkb-",
    "outputId": "dc9d947a-4d5c-4dbc-ed45-31bf44b98dfb",
    "scrolled": true
   },
   "outputs": [
    {
     "name": "stdout",
     "output_type": "stream",
     "text": [
      "Epoch 1/100\n",
      "38/38 [==============================] - 8s 43ms/step - loss: 0.3489\n",
      "Epoch 2/100\n",
      "38/38 [==============================] - 2s 45ms/step - loss: 0.1393\n",
      "Epoch 3/100\n",
      "38/38 [==============================] - 2s 55ms/step - loss: 0.0989\n",
      "Epoch 4/100\n",
      "38/38 [==============================] - 2s 61ms/step - loss: 0.0830\n",
      "Epoch 5/100\n",
      "38/38 [==============================] - 2s 60ms/step - loss: 0.0772\n",
      "Epoch 6/100\n",
      "38/38 [==============================] - 2s 59ms/step - loss: 0.0753\n",
      "Epoch 7/100\n",
      "38/38 [==============================] - 2s 59ms/step - loss: 0.0727\n",
      "Epoch 8/100\n",
      "38/38 [==============================] - 2s 61ms/step - loss: 0.0728\n",
      "Epoch 9/100\n",
      "38/38 [==============================] - 3s 77ms/step - loss: 0.0706\n",
      "Epoch 10/100\n",
      "38/38 [==============================] - 3s 68ms/step - loss: 0.0711\n",
      "Epoch 11/100\n",
      "38/38 [==============================] - 3s 67ms/step - loss: 0.0712\n",
      "Epoch 12/100\n",
      "38/38 [==============================] - 3s 76ms/step - loss: 0.0701\n",
      "Epoch 13/100\n",
      "38/38 [==============================] - 3s 69ms/step - loss: 0.0695\n",
      "Epoch 14/100\n",
      "38/38 [==============================] - 3s 67ms/step - loss: 0.0686\n",
      "Epoch 15/100\n",
      "38/38 [==============================] - 3s 68ms/step - loss: 0.0673\n",
      "Epoch 16/100\n",
      "38/38 [==============================] - 3s 67ms/step - loss: 0.0690\n",
      "Epoch 17/100\n",
      "38/38 [==============================] - 2s 62ms/step - loss: 0.0687\n",
      "Epoch 18/100\n",
      "38/38 [==============================] - 2s 62ms/step - loss: 0.0678\n",
      "Epoch 19/100\n",
      "38/38 [==============================] - 2s 61ms/step - loss: 0.0671\n",
      "Epoch 20/100\n",
      "38/38 [==============================] - 2s 60ms/step - loss: 0.0662\n",
      "Epoch 21/100\n",
      "38/38 [==============================] - 2s 62ms/step - loss: 0.0665\n",
      "Epoch 22/100\n",
      "38/38 [==============================] - 2s 59ms/step - loss: 0.0680\n",
      "Epoch 23/100\n",
      "38/38 [==============================] - 2s 60ms/step - loss: 0.0679\n",
      "Epoch 24/100\n",
      "38/38 [==============================] - 2s 60ms/step - loss: 0.0682\n",
      "Epoch 25/100\n",
      "38/38 [==============================] - 2s 61ms/step - loss: 0.0658\n",
      "Epoch 26/100\n",
      "38/38 [==============================] - 2s 61ms/step - loss: 0.0665\n",
      "Epoch 27/100\n",
      "38/38 [==============================] - 2s 61ms/step - loss: 0.0677\n",
      "Epoch 28/100\n",
      "38/38 [==============================] - 2s 58ms/step - loss: 0.0664\n",
      "Epoch 29/100\n",
      "38/38 [==============================] - 2s 64ms/step - loss: 0.0663\n",
      "Epoch 30/100\n",
      "38/38 [==============================] - 2s 63ms/step - loss: 0.0685\n",
      "Epoch 31/100\n",
      "38/38 [==============================] - 2s 64ms/step - loss: 0.0685\n",
      "Epoch 32/100\n",
      "38/38 [==============================] - 3s 72ms/step - loss: 0.0668\n",
      "Epoch 33/100\n",
      "38/38 [==============================] - 2s 62ms/step - loss: 0.0659\n",
      "Epoch 34/100\n",
      "38/38 [==============================] - 2s 62ms/step - loss: 0.0654\n",
      "Epoch 35/100\n",
      "38/38 [==============================] - 2s 59ms/step - loss: 0.0660\n",
      "Epoch 36/100\n",
      "38/38 [==============================] - 2s 60ms/step - loss: 0.0667\n",
      "Epoch 37/100\n",
      "38/38 [==============================] - 2s 61ms/step - loss: 0.0667\n",
      "Epoch 38/100\n",
      "38/38 [==============================] - 2s 60ms/step - loss: 0.0666\n",
      "Epoch 39/100\n",
      "38/38 [==============================] - 2s 54ms/step - loss: 0.0656\n",
      "Epoch 40/100\n",
      "38/38 [==============================] - 2s 58ms/step - loss: 0.0672\n",
      "Epoch 41/100\n",
      "38/38 [==============================] - 2s 57ms/step - loss: 0.0662\n",
      "Epoch 42/100\n",
      "38/38 [==============================] - 2s 59ms/step - loss: 0.0660\n",
      "Epoch 43/100\n",
      "38/38 [==============================] - 2s 58ms/step - loss: 0.0661\n",
      "Epoch 44/100\n",
      "38/38 [==============================] - 2s 57ms/step - loss: 0.0669\n",
      "Epoch 45/100\n",
      "38/38 [==============================] - 2s 59ms/step - loss: 0.0662\n",
      "Epoch 46/100\n",
      "38/38 [==============================] - 2s 61ms/step - loss: 0.0662\n",
      "Epoch 47/100\n",
      "38/38 [==============================] - 2s 59ms/step - loss: 0.0655\n",
      "Epoch 48/100\n",
      "38/38 [==============================] - 2s 60ms/step - loss: 0.0653\n",
      "Epoch 49/100\n",
      "38/38 [==============================] - 2s 61ms/step - loss: 0.0648\n",
      "Epoch 50/100\n",
      "38/38 [==============================] - 2s 61ms/step - loss: 0.0649\n",
      "Epoch 51/100\n",
      "38/38 [==============================] - 2s 63ms/step - loss: 0.0655\n",
      "Epoch 52/100\n",
      "38/38 [==============================] - 3s 67ms/step - loss: 0.0657\n",
      "Epoch 53/100\n",
      "38/38 [==============================] - 2s 63ms/step - loss: 0.0650\n",
      "Epoch 54/100\n",
      "38/38 [==============================] - 2s 60ms/step - loss: 0.0671\n",
      "Epoch 55/100\n",
      "38/38 [==============================] - 2s 63ms/step - loss: 0.0667\n",
      "Epoch 56/100\n",
      "38/38 [==============================] - 2s 60ms/step - loss: 0.0664\n",
      "Epoch 57/100\n",
      "38/38 [==============================] - 2s 62ms/step - loss: 0.0660\n",
      "Epoch 58/100\n",
      "38/38 [==============================] - 2s 60ms/step - loss: 0.0647\n",
      "Epoch 59/100\n",
      "38/38 [==============================] - 2s 59ms/step - loss: 0.0643\n",
      "Epoch 60/100\n",
      "38/38 [==============================] - 2s 59ms/step - loss: 0.0665\n",
      "Epoch 61/100\n",
      "38/38 [==============================] - 2s 59ms/step - loss: 0.0641\n",
      "Epoch 62/100\n",
      "38/38 [==============================] - 2s 59ms/step - loss: 0.0657\n",
      "Epoch 63/100\n",
      "38/38 [==============================] - 2s 60ms/step - loss: 0.0658\n",
      "Epoch 64/100\n",
      "38/38 [==============================] - 2s 61ms/step - loss: 0.0649\n",
      "Epoch 65/100\n",
      "38/38 [==============================] - 2s 61ms/step - loss: 0.0652\n",
      "Epoch 66/100\n",
      "38/38 [==============================] - 2s 62ms/step - loss: 0.0665\n",
      "Epoch 67/100\n",
      "38/38 [==============================] - 2s 59ms/step - loss: 0.0647\n",
      "Epoch 68/100\n",
      "38/38 [==============================] - 2s 61ms/step - loss: 0.0662\n",
      "Epoch 69/100\n",
      "38/38 [==============================] - 2s 50ms/step - loss: 0.0655\n",
      "Epoch 70/100\n",
      "38/38 [==============================] - 2s 52ms/step - loss: 0.0662\n",
      "Epoch 71/100\n",
      "38/38 [==============================] - 2s 52ms/step - loss: 0.0650\n",
      "Epoch 72/100\n",
      "38/38 [==============================] - 2s 57ms/step - loss: 0.0653\n",
      "Epoch 73/100\n",
      "38/38 [==============================] - 2s 59ms/step - loss: 0.0659\n",
      "Epoch 74/100\n",
      "38/38 [==============================] - 2s 57ms/step - loss: 0.0659\n",
      "Epoch 75/100\n",
      "38/38 [==============================] - 2s 46ms/step - loss: 0.0663\n",
      "Epoch 76/100\n",
      "38/38 [==============================] - 2s 51ms/step - loss: 0.0659\n",
      "Epoch 77/100\n",
      "38/38 [==============================] - 2s 48ms/step - loss: 0.0652\n",
      "Epoch 78/100\n",
      "38/38 [==============================] - 2s 50ms/step - loss: 0.0656\n",
      "Epoch 79/100\n",
      "38/38 [==============================] - 2s 65ms/step - loss: 0.0645\n",
      "Epoch 80/100\n",
      "38/38 [==============================] - 2s 63ms/step - loss: 0.0671\n",
      "Epoch 81/100\n",
      "38/38 [==============================] - 2s 61ms/step - loss: 0.0659\n",
      "Epoch 82/100\n",
      "38/38 [==============================] - 2s 60ms/step - loss: 0.0657\n",
      "Epoch 83/100\n",
      "38/38 [==============================] - 2s 47ms/step - loss: 0.0662\n",
      "Epoch 84/100\n",
      "38/38 [==============================] - 2s 50ms/step - loss: 0.0649\n",
      "Epoch 85/100\n",
      "38/38 [==============================] - 2s 46ms/step - loss: 0.0653\n",
      "Epoch 86/100\n",
      "38/38 [==============================] - 2s 54ms/step - loss: 0.0655\n",
      "Epoch 87/100\n",
      "38/38 [==============================] - 2s 60ms/step - loss: 0.0664\n",
      "Epoch 88/100\n",
      "38/38 [==============================] - 2s 60ms/step - loss: 0.0652\n",
      "Epoch 89/100\n",
      "38/38 [==============================] - 2s 59ms/step - loss: 0.0649\n",
      "Epoch 90/100\n",
      "38/38 [==============================] - 2s 61ms/step - loss: 0.0645\n",
      "Epoch 91/100\n",
      "38/38 [==============================] - 2s 63ms/step - loss: 0.0657\n",
      "Epoch 92/100\n",
      "38/38 [==============================] - 2s 58ms/step - loss: 0.0660\n",
      "Epoch 93/100\n",
      "38/38 [==============================] - 2s 50ms/step - loss: 0.0650\n",
      "Epoch 94/100\n",
      "38/38 [==============================] - 2s 60ms/step - loss: 0.0647\n",
      "Epoch 95/100\n",
      "38/38 [==============================] - 2s 52ms/step - loss: 0.0660\n",
      "Epoch 96/100\n",
      "38/38 [==============================] - 2s 46ms/step - loss: 0.0640\n",
      "Epoch 97/100\n",
      "38/38 [==============================] - 2s 56ms/step - loss: 0.0660\n",
      "Epoch 98/100\n",
      "38/38 [==============================] - 2s 45ms/step - loss: 0.0664\n",
      "Epoch 99/100\n",
      "38/38 [==============================] - 2s 46ms/step - loss: 0.0642\n",
      "Epoch 100/100\n",
      "38/38 [==============================] - 2s 45ms/step - loss: 0.0643\n"
     ]
    },
    {
     "data": {
      "text/plain": [
       "<keras.src.callbacks.History at 0x18621cbf6d0>"
      ]
     },
     "execution_count": 18,
     "metadata": {},
     "output_type": "execute_result"
    }
   ],
   "source": [
    "regressor.fit(X_train, y_train, epochs = 100, batch_size = 32)"
   ]
  },
  {
   "cell_type": "markdown",
   "metadata": {
    "colab_type": "text",
    "id": "4hRau_lIkrE8"
   },
   "source": [
    "## Part 3 - Making the predictions and visualising the results"
   ]
  },
  {
   "cell_type": "markdown",
   "metadata": {
    "colab_type": "text",
    "id": "SgJO6qEDksxD"
   },
   "source": [
    "### Getting the real stock price of 2017"
   ]
  },
  {
   "cell_type": "code",
   "execution_count": 19,
   "metadata": {
    "colab": {},
    "colab_type": "code",
    "id": "FmBT2zqukxTz"
   },
   "outputs": [],
   "source": [
    "dataset_test = pd.read_csv('Google_Stock_Price_Test.csv')\n",
    "real_stock_price = dataset_test.iloc[:, 1:2].values"
   ]
  },
  {
   "cell_type": "markdown",
   "metadata": {
    "colab_type": "text",
    "id": "GrvrLblxkz42"
   },
   "source": [
    "### Getting the predicted stock price of 2017"
   ]
  },
  {
   "cell_type": "code",
   "execution_count": 24,
   "metadata": {
    "colab": {},
    "colab_type": "code",
    "id": "emikTvUpk3Ck"
   },
   "outputs": [
    {
     "name": "stdout",
     "output_type": "stream",
     "text": [
      "1/1 [==============================] - 0s 428ms/step\n"
     ]
    }
   ],
   "source": [
    "dataset_total = pd.concat((dataset_train['Open'], dataset_test['Open']), axis = 0)\n",
    "inputs = dataset_total[len(dataset_total) - len(dataset_test) - 60:].values\n",
    "\n",
    "\n",
    "inputs = inputs.reshape(-1,1)\n",
    "inputs = sc.transform(inputs)\n",
    "X_test = []\n",
    "for i in range(60, 80):\n",
    "    X_test.append(inputs[i-60:i, 0])\n",
    "X_test = np.array(X_test)\n",
    "X_test = np.reshape(X_test, (X_test.shape[0], X_test.shape[1], 1))\n",
    "predicted_stock_price = regressor.predict(X_test)\n",
    "\n",
    "\n",
    "predicted_stock_price = sc.inverse_transform(predicted_stock_price)"
   ]
  },
  {
   "cell_type": "code",
   "execution_count": null,
   "metadata": {},
   "outputs": [],
   "source": []
  },
  {
   "cell_type": "code",
   "execution_count": 25,
   "metadata": {},
   "outputs": [
    {
     "data": {
      "text/plain": [
       "array([[778.81],\n",
       "       [788.36],\n",
       "       [786.08],\n",
       "       [795.26],\n",
       "       [806.4 ],\n",
       "       [807.86],\n",
       "       [805.  ],\n",
       "       [807.14],\n",
       "       [807.48],\n",
       "       [807.08],\n",
       "       [805.81],\n",
       "       [805.12],\n",
       "       [806.91],\n",
       "       [807.25],\n",
       "       [822.3 ],\n",
       "       [829.62],\n",
       "       [837.81],\n",
       "       [834.71],\n",
       "       [814.66],\n",
       "       [796.86]])"
      ]
     },
     "execution_count": 25,
     "metadata": {},
     "output_type": "execute_result"
    }
   ],
   "source": [
    "real_stock_price"
   ]
  },
  {
   "cell_type": "code",
   "execution_count": 26,
   "metadata": {},
   "outputs": [
    {
     "data": {
      "text/plain": [
       "array([[781.0051 ],\n",
       "       [778.79224],\n",
       "       [778.94   ],\n",
       "       [780.10626],\n",
       "       [782.6812 ],\n",
       "       [788.66956],\n",
       "       [793.9313 ],\n",
       "       [795.0475 ],\n",
       "       [794.9787 ],\n",
       "       [794.5998 ],\n",
       "       [793.1806 ],\n",
       "       [792.07385],\n",
       "       [792.09216],\n",
       "       [793.32336],\n",
       "       [794.21954],\n",
       "       [797.12286],\n",
       "       [801.6574 ],\n",
       "       [807.3156 ],\n",
       "       [810.30475],\n",
       "       [807.4139 ]], dtype=float32)"
      ]
     },
     "execution_count": 26,
     "metadata": {},
     "output_type": "execute_result"
    }
   ],
   "source": [
    "predicted_stock_price"
   ]
  },
  {
   "cell_type": "markdown",
   "metadata": {
    "colab_type": "text",
    "id": "iFTNs3YHk6FQ"
   },
   "source": [
    "### Visualising the results"
   ]
  },
  {
   "cell_type": "code",
   "execution_count": 27,
   "metadata": {
    "colab": {
     "base_uri": "https://localhost:8080/",
     "height": 295
    },
    "colab_type": "code",
    "id": "8OUI8U49k9tH",
    "outputId": "db0ed15e-071b-4bae-955e-0eda3df95238"
   },
   "outputs": [
    {
     "data": {
      "image/png": "[encoded data removed]",
      "text/plain": [
       "<Figure size 640x480 with 1 Axes>"
      ]
     },
     "metadata": {},
     "output_type": "display_data"
    }
   ],
   "source": [
    "plt.plot(real_stock_price, color = 'red', label = 'Real Google Stock Price')\n",
    "plt.plot(predicted_stock_price, color = 'blue', label = 'Predicted Google Stock Price')\n",
    "plt.title('Google Stock Price Prediction')\n",
    "plt.xlabel('Time')\n",
    "plt.ylabel('Google Stock Price')\n",
    "plt.legend()\n",
    "plt.show()"
   ]
  },
  {
   "cell_type": "code",
   "execution_count": null,
   "metadata": {},
   "outputs": [],
   "source": []
  }
 ],
 "metadata": {
  "colab": {
   "collapsed_sections": [],
   "name": "recurrent_neural_network.ipynb",
   "provenance": []
  },
  "kernelspec": {
   "display_name": "Python 3 (ipykernel)",
   "language": "python",
   "name": "python3"
  },
  "language_info": {
   "codemirror_mode": {
    "name": "ipython",
    "version": 3
   },
   "file_extension": ".py",
   "mimetype": "text/x-python",
   "name": "python",
   "nbconvert_exporter": "python",
   "pygments_lexer": "ipython3",
   "version": "3.11.7"
  }
 },
 "nbformat": 4,
 "nbformat_minor": 4
}
