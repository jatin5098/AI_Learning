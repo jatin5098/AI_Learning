{
 "cells": [
  {
   "cell_type": "code",
   "execution_count": 9,
   "id": "d97b3907",
   "metadata": {},
   "outputs": [
    {
     "name": "stdout",
     "output_type": "stream",
     "text": [
      "Requirement already satisfied: pygame in c:\\users\\divya\\anaconda3\\lib\\site-packages (2.5.2)\n",
      "Collecting gym\n",
      "  Downloading gym-0.26.2.tar.gz (721 kB)\n",
      "                                              0.0/721.7 kB ? eta -:--:--\n",
      "                                              10.2/721.7 kB ? eta -:--:--\n",
      "     -                                     30.7/721.7 kB 262.6 kB/s eta 0:00:03\n",
      "     ----                                  81.9/721.7 kB 573.4 kB/s eta 0:00:02\n",
      "     -------------------------------------  716.8/721.7 kB 4.1 MB/s eta 0:00:01\n",
      "     -------------------------------------  716.8/721.7 kB 4.1 MB/s eta 0:00:01\n",
      "     -------------------------------------- 721.7/721.7 kB 3.0 MB/s eta 0:00:00\n",
      "  Installing build dependencies: started\n",
      "  Installing build dependencies: finished with status 'done'\n",
      "  Getting requirements to build wheel: started\n",
      "  Getting requirements to build wheel: finished with status 'done'\n",
      "  Preparing metadata (pyproject.toml): started\n",
      "  Preparing metadata (pyproject.toml): finished with status 'done'\n",
      "Requirement already satisfied: numpy>=1.18.0 in c:\\users\\divya\\anaconda3\\lib\\site-packages (from gym) (1.26.4)\n",
      "Requirement already satisfied: cloudpickle>=1.2.0 in c:\\users\\divya\\anaconda3\\lib\\site-packages (from gym) (2.2.1)\n",
      "Collecting gym-notices>=0.0.4 (from gym)\n",
      "  Downloading gym_notices-0.0.8-py3-none-any.whl (3.0 kB)\n",
      "Building wheels for collected packages: gym\n",
      "  Building wheel for gym (pyproject.toml): started\n",
      "  Building wheel for gym (pyproject.toml): finished with status 'done'\n",
      "  Created wheel for gym: filename=gym-0.26.2-py3-none-any.whl size=827628 sha256=6736629b9448d4a08d22c12312cbed5a3c208feabdcc390927810ee6a79aeda1\n",
      "  Stored in directory: c:\\users\\divya\\appdata\\local\\pip\\cache\\wheels\\1c\\77\\9e\\9af5470201a0b0543937933ee99ba884cd237d2faefe8f4d37\n",
      "Successfully built gym\n",
      "Installing collected packages: gym-notices, gym\n",
      "Successfully installed gym-0.26.2 gym-notices-0.0.8\n"
     ]
    }
   ],
   "source": [
    "# !pip install pygame\n",
    "# !pip install gym"
   ]
  },
  {
   "cell_type": "code",
   "execution_count": 10,
   "id": "1309efaf",
   "metadata": {},
   "outputs": [],
   "source": [
    "%matplotlib notebook\n",
    "from IPython.display import clear_output\n",
    "import time  # slow the game down a little bit\n",
    "import gym\n",
    "import numpy as np  # used for all kinds of matrix / vector operations\n",
    "import matplotlib.pyplot as plt  # for plotting"
   ]
  },
  {
   "cell_type": "code",
   "execution_count": 11,
   "id": "63651e8a",
   "metadata": {},
   "outputs": [],
   "source": [
    "from gym.envs.registration import register\n",
    "\n",
    "try:\n",
    "\n",
    "    register(\n",
    "        id='FrozenLakeNotSlippery-v0', # make sure this is a custom name!\n",
    "        entry_point='gym.envs.toy_text:FrozenLakeEnv',\n",
    "        kwargs={'map_name' : '4x4', 'is_slippery': False},\n",
    "        max_episode_steps=100,\n",
    "    )\n",
    "except:\n",
    "    print(\"already registered\")"
   ]
  },
  {
   "cell_type": "code",
   "execution_count": 13,
   "id": "3f4b9dd1",
   "metadata": {},
   "outputs": [],
   "source": [
    "env = gym.make(\"FrozenLakeNotSlippery-v0\", render_mode='human')  # Load FrozenLake\n",
    "env.reset()  # Reset to initial state\n",
    "for _ in range(30):\n",
    "    env.render()  # Render on the screen\n",
    "    time.sleep(0.1)  ### when the statement time.sleep(t) is executed then the next line of code will be executed after t seconds.\n",
    "    action = env.action_space.sample()  # chose a random action\n",
    "    env.step(action)  # Perform random action on the environment\n",
    "env.close()  # dont forget to close the environment"
   ]
  },
  {
   "cell_type": "code",
   "execution_count": null,
   "id": "50e17ee3-772d-4280-a77e-6917fd44adcd",
   "metadata": {},
   "outputs": [],
   "source": []
  }
 ],
 "metadata": {
  "kernelspec": {
   "display_name": "Python 3 (ipykernel)",
   "language": "python",
   "name": "python3"
  },
  "language_info": {
   "codemirror_mode": {
    "name": "ipython",
    "version": 3
   },
   "file_extension": ".py",
   "mimetype": "text/x-python",
   "name": "python",
   "nbconvert_exporter": "python",
   "pygments_lexer": "ipython3",
   "version": "3.11.9"
  }
 },
 "nbformat": 4,
 "nbformat_minor": 5
}
